{
 "cells": [
  {
   "cell_type": "markdown",
   "id": "38175562-c2ae-4b9d-9420-bb01f07eddf1",
   "metadata": {},
   "source": [
    "# Tarefa 03\n",
    "\n",
    "####  1) Lendo de APIs\n",
    "Vimos em aula como carregar dados públicos do governo através de um API (*Application Programming Interface*). No exemplo de aula, baixamos os dados de pedidos de verificação de limites (PVL) realizados por estados, e selecionamos apenas aqueles referentes ao estado de São Paulo.\n",
    "\n",
    "1. Repita os mesmos passos feitos em aula, mas selecione os PVLs realizados por municípios no estado do Rio de Janeiro.\n",
    "2. Quais são os três *status* das solicitações mais frequentes na base? Quais são suas frequências?\n",
    "3. Construa uma nova variável que contenha o ano do **status**. Observe que ```data_status``` vem como tipo *object* no **DataFrame**. Dica: você pode usar o método ```.str``` para transformar o tipo da variável em string, em seguida um método como [**slice()**](https://pandas.pydata.org/docs/reference/api/pandas.Series.str.slice.html) ou [**split()**](https://pandas.pydata.org/pandas-docs/stable/reference/api/pandas.Series.str.split.html).\n",
    "4. Indique a frequência de cada ano do campo construído no item (3)."
   ]
  },
  {
   "cell_type": "code",
   "execution_count": 13,
   "id": "fe39937d-5da0-4260-91be-219e7ddc6cbb",
   "metadata": {},
   "outputs": [
    {
     "name": "stdout",
     "output_type": "stream",
     "text": [
      "     id_pleito tipo_interessado     interessado  cod_ibge  uf  \\\n",
      "389      34100        Município         Resende   3304201  RJ   \n",
      "504      33609        Município       Vassouras   3306206  RJ   \n",
      "660      28822        Município         Resende   3304201  RJ   \n",
      "793      27100        Município  Rio de Janeiro   3304557  RJ   \n",
      "902      60354        Município          Paraty   3303807  RJ   \n",
      "\n",
      "                  num_pvl                          status  \\\n",
      "389  PVL02.003091/2019-33               Deferido (PVL-IF)   \n",
      "504  PVL02.002481/2019-96                        Deferido   \n",
      "660  PVL02.001389/2018-28                        Deferido   \n",
      "793  PVL02.002429/2017-78  Arquivado por decurso de prazo   \n",
      "902  PVL02.006783/2022-39               Deferido (PVL-IF)   \n",
      "\n",
      "             num_processo        data_protocolo                tipo_operacao  \\\n",
      "389                  None                  None  Operação contratual interna   \n",
      "504  17944.102288/2019-17  2019-07-29T14:06:25Z  Operação contratual interna   \n",
      "660  17944.105556/2018-71  2018-07-10T17:20:13Z  Operação contratual interna   \n",
      "793  17944.103668/2017-15  2018-07-31T18:50:09Z  Operação contratual interna   \n",
      "902                  None                  None  Operação contratual interna   \n",
      "\n",
      "            finalidade                      tipo_credor  \\\n",
      "389  Aporte de capital  Instituição Financeira Nacional   \n",
      "504     Infraestrutura  Instituição Financeira Nacional   \n",
      "660     Infraestrutura  Instituição Financeira Nacional   \n",
      "793     Infraestrutura  Instituição Financeira Nacional   \n",
      "902     Infraestrutura  Instituição Financeira Nacional   \n",
      "\n",
      "                                             credor moeda         valor  \\\n",
      "389                         Caixa Econômica Federal  Real  3.600000e+06   \n",
      "504                         Caixa Econômica Federal  Real  4.050000e+07   \n",
      "660                             Banco do Brasil S/A  Real  7.000000e+06   \n",
      "793                         Caixa Econômica Federal  Real  1.000000e+08   \n",
      "902  Agência de Fomento do Estado do Rio de Janeiro  Real  4.794057e+06   \n",
      "\n",
      "     pvl_assoc_divida  pvl_contradado_credor data_status  \n",
      "389                 0                      1  27/09/2019  \n",
      "504                 0                      1  31/07/2019  \n",
      "660                 0                      1  12/07/2018  \n",
      "793                 0                      0  07/01/2019  \n",
      "902                 0                      1  28/07/2022  \n"
     ]
    }
   ],
   "source": [
    "##01 - selecione os PVLs realizados por municípios no estado do Rio de Janeiro.\n",
    "\n",
    "import requests\n",
    "import pandas as pd\n",
    "\n",
    "# URL da API\n",
    "url = 'https://apidatalake.tesouro.gov.br/ords/sadipem/tt/pvl'\n",
    "\n",
    "# Fazer a requisição para a API\n",
    "response = requests.get(url)\n",
    "dados = response.json()\n",
    "\n",
    "# Extrair dados relevantes (ajuste conforme a estrutura)\n",
    "dados_relevantes = dados['items']  \n",
    "\n",
    "# Criar o DataFrame\n",
    "dados_pvl = pd.DataFrame(dados_relevantes)\n",
    "\n",
    "# Filtrar PVLs de municípios do RJ\n",
    "filtro_rj_municipios = (dados_pvl['uf'] == 'RJ') & (dados_pvl['tipo_interessado'] == 'Município')\n",
    "dados_filtrados = dados_pvl[filtro_rj_municipios]\n",
    "\n",
    "# Exibir os resultados\n",
    "print(dados_filtrados.head())\n",
    "\n",
    "# Salvar em CSV \n",
    "dados_filtrados.to_csv(\"pvl_municipios_rj.csv\", index=False)\n",
    "\n",
    "\n"
   ]
  },
  {
   "cell_type": "code",
   "execution_count": null,
   "id": "19af832a-5050-4151-b73b-f7b1e731f52e",
   "metadata": {},
   "outputs": [],
   "source": []
  },
  {
   "cell_type": "markdown",
   "id": "53b240e5-551b-40df-b46b-f4fe92cc3eda",
   "metadata": {},
   "source": [
    "##02- Quais são os três status das solicitações mais frequentes na base? Quais são suas frequências?\n"
   ]
  },
  {
   "cell_type": "code",
   "execution_count": 37,
   "id": "be61e853-efb7-45d2-9889-6640fe14742f",
   "metadata": {},
   "outputs": [
    {
     "name": "stdout",
     "output_type": "stream",
     "text": [
      "Index(['id_pleito', 'tipo_interessado', 'interessado', 'cod_ibge', 'uf',\n",
      "       'num_pvl', 'status', 'num_processo', 'data_protocolo', 'tipo_operacao',\n",
      "       'finalidade', 'tipo_credor', 'credor', 'moeda', 'valor',\n",
      "       'pvl_assoc_divida', 'pvl_contradado_credor', 'data_status'],\n",
      "      dtype='object')\n"
     ]
    }
   ],
   "source": [
    "#exibindo colunas\n",
    "print(dados_pvl.columns)\n"
   ]
  },
  {
   "cell_type": "code",
   "execution_count": 39,
   "id": "6101dbf3-a236-4279-8f8c-70642d688812",
   "metadata": {},
   "outputs": [
    {
     "name": "stdout",
     "output_type": "stream",
     "text": [
      "status\n",
      "Deferido             2497\n",
      "Deferido (PVL-IF)    1326\n",
      "Arquivado             348\n",
      "Name: count, dtype: int64\n"
     ]
    }
   ],
   "source": [
    "# Contar a frequência de cada status\n",
    "status_frequencia = dados_pvl['status'].value_counts()\n",
    "top3_status = status_frequencia.head(3)\n",
    "\n",
    "#exibindo resultado\n",
    "print(top3_status)\n"
   ]
  },
  {
   "cell_type": "code",
   "execution_count": null,
   "id": "056043b5-106c-44de-a319-a956cb568192",
   "metadata": {},
   "outputs": [],
   "source": []
  },
  {
   "cell_type": "markdown",
   "id": "5276661a-b073-414d-b962-3bb441821f2a",
   "metadata": {},
   "source": [
    "##03- Construa uma nova variável que contenha o ano do status. Observe que data_status vem como tipo object no DataFrame. Dica: você pode usar o método .str para transformar o tipo da variável em string, em seguida um método como slice() ou split()."
   ]
  },
  {
   "cell_type": "code",
   "execution_count": 55,
   "id": "8ff46688-adbe-48aa-869c-6b9ac229d1cc",
   "metadata": {},
   "outputs": [
    {
     "name": "stdout",
     "output_type": "stream",
     "text": [
      "  data_status ano_status\n",
      "0  27/07/2021       2021\n",
      "1  31/03/2020       2020\n",
      "2  07/07/2020       2020\n",
      "3  24/06/2022       2022\n",
      "4  30/12/2019       2019\n"
     ]
    }
   ],
   "source": [
    "# Certifique-se de que 'data_status' é tratada como string\n",
    "dados_pvl['data_status'] = dados_pvl['data_status'].astype(str)\n",
    "\n",
    "# Extrair o ano da coluna 'data_status' (supondo o formato 'dd/mm/aaaa')\n",
    "dados_pvl['ano_status'] = dados_pvl['data_status'].str.slice(start=6, stop=10)\n",
    "\n",
    "# Exibir as primeiras linhas para confirmar o resultado\n",
    "print(dados_pvl[['data_status', 'ano_status']].head())\n"
   ]
  },
  {
   "cell_type": "markdown",
   "id": "a542b367-a2f5-4d71-8f73-af9fa4b8bd84",
   "metadata": {},
   "source": [
    "##04- Indique a frequência de cada ano do campo construído no item (3).\n",
    "Selection deleted\n"
   ]
  },
  {
   "cell_type": "code",
   "execution_count": 66,
   "id": "3b0ecf11-f8c1-490a-b941-dac8c6a2b1d0",
   "metadata": {},
   "outputs": [
    {
     "name": "stdout",
     "output_type": "stream",
     "text": [
      "ano_status\n",
      "2019    521\n",
      "2018    408\n",
      "2008    389\n",
      "2007    261\n",
      "2021    259\n",
      "2017    250\n",
      "2022    248\n",
      "2023    246\n",
      "2012    228\n",
      "2014    220\n",
      "2010    218\n",
      "2020    218\n",
      "2009    186\n",
      "2011    178\n",
      "2013    177\n",
      "2024    173\n",
      "2006    172\n",
      "2016    149\n",
      "2015    136\n",
      "2004    134\n",
      "2002    105\n",
      "2003     82\n",
      "2005     42\n",
      "Name: count, dtype: int64\n"
     ]
    }
   ],
   "source": [
    "#calculando frequencia de ano_status\n",
    "frequencia_anos = dados_pvl['ano_status'].value_counts()\n",
    "\n",
    "#exibindo resultado\n",
    "print(frequencia_anos)"
   ]
  },
  {
   "cell_type": "code",
   "execution_count": null,
   "id": "f184fd40-8d11-4af4-a43d-c4099760cedd",
   "metadata": {},
   "outputs": [],
   "source": []
  },
  {
   "cell_type": "markdown",
   "id": "a418322a-5fd3-48a8-9857-0ec01ab56c7e",
   "metadata": {},
   "source": [
    "####  2) Melhorando a interação com o API\n",
    "Observe dois URLs de consultas diferentes, por exemplo o URL utilizado em aula, e o URL feito no exercício anterior. Compare-os e observe as diferenças.\n",
    "\n",
    "1. Faça uma função em Python que recebe como argumento o UF da consulta e o tipo de interessado (```'Estado'```ou ```Município```), e que devolve os dados da consulta no formato *DataFrame*.\n",
    "2. Quantas solicitações para o Estado podem ser consultadas para Minas Gerais com *status* em 'Arquivado por decurso de prazo' estão registradas?\n",
    "3. Qual é o município da Bahia com mais solicitações deferidas?\n",
    "4. Salve um arquivo .csv com os dados de solicitações da Bahia, com interessado = 'Estado'"
   ]
  },
  {
   "cell_type": "code",
   "execution_count": 3,
   "id": "c45b8300-08ab-4a13-9f18-133951b7524a",
   "metadata": {},
   "outputs": [
    {
     "name": "stdout",
     "output_type": "stream",
     "text": [
      "Empty DataFrame\n",
      "Columns: [id_pleito, tipo_interessado, interessado, cod_ibge, uf, num_pvl, status, num_processo, data_protocolo, tipo_operacao, finalidade, tipo_credor, credor, moeda, valor, pvl_assoc_divida, pvl_contradado_credor, data_status]\n",
      "Index: []\n"
     ]
    }
   ],
   "source": [
    "import requests\n",
    "import pandas as pd\n",
    "\n",
    "# URL da API\n",
    "url = ' http://apidatalake.tesouro.gov.br/ords/sadipem/tt/pvl?uf=RJ&tipo_interessado=Estado'\n",
    "\n",
    "\n",
    "# Fazer a requisição para a API\n",
    "response = requests.get(url)\n",
    "dados = response.json()\n",
    "\n",
    "# Extrair dados relevantes (ajuste conforme a estrutura)\n",
    "dados_relevantes = dados['items']  \n",
    "\n",
    "# Criar o DataFrame\n",
    "dados_pvl = pd.DataFrame(dados_relevantes)\n",
    "\n",
    "# Filtrar PVLs de municípios do RJ\n",
    "filtro_rj_municipios = (dados_pvl['uf'] == 'RJ') & (dados_pvl['tipo_interessado'] == 'Município')\n",
    "dados_filtrados = dados_pvl[filtro_rj_municipios]\n",
    "\n",
    "# Exibir os resultados\n",
    "print(dados_filtrados.head())\n",
    "\n",
    "# Salvar em CSV \n",
    "dados_filtrados.to_csv(\"pvl_municipios_rj.csv\", index=False)\n",
    "\n"
   ]
  },
  {
   "cell_type": "code",
   "execution_count": 51,
   "id": "d34f7aa2-d261-4140-bd2b-b52096f15b6e",
   "metadata": {},
   "outputs": [],
   "source": [
    " #01 - Faça uma função em Python que recebe como argumento o UF da consulta e o tipo de interessado \n",
    "#('Estado'ou Município), e que devolve os dados da consulta no formato DataFrame.\n",
    "\n",
    "import requests\n",
    "import pandas as pd\n",
    "\n",
    "def consulta_pvl(uf, tipo_interessado):\n",
    "    \"\"\"\n",
    "    Consulta os dados da API de PVL (Proposta de Valores Líquidos) do Tesouro Nacional\n",
    "    e retorna os dados no formato DataFrame.\n",
    "\n",
    "    Parâmetros:\n",
    "    - uf (str): Unidade Federativa (exemplo: 'SP', 'PB')\n",
    "    - tipo_interessado (str): Tipo de interessado ('Estado' ou 'Município')\n",
    "\n",
    "    Retorno:\n",
    "    - DataFrame com os dados filtrados pela UF e tipo de interessado.\n",
    "    \"\"\"\n",
    "    # URL da API\n",
    "    url = \"http://apidatalake.tesouro.gov.br/ords/sadipem/tt/pvl\"\n",
    "    \n",
    "    # Realiza a requisição para a API\n",
    "    response = requests.get(url)\n",
    "    \n",
    "    # Verifica se a requisição foi bem-sucedida\n",
    "    if response.status_code == 200:\n",
    "        # Converte a resposta JSON em DataFrame\n",
    "        dados = response.json()\n",
    "        df = pd.DataFrame(dados['items'])\n",
    "        \n",
    "        # Filtra os dados pela UF e tipo de interessado\n",
    "        df_filtrado = df[(df['uf'] == uf) & (df['tipo_interessado'] == tipo_interessado)]\n",
    "        return df_filtrado\n",
    "    else:\n",
    "        print(f\"Erro na requisição: {response.status_code}\")\n",
    "        return pd.DataFrame()  # Retorna um DataFrame vazio em caso de erro\n"
   ]
  },
  {
   "cell_type": "code",
   "execution_count": 55,
   "id": "a4ddead1-5310-4b9e-a15b-35f79cc86e8a",
   "metadata": {},
   "outputs": [
    {
     "name": "stdout",
     "output_type": "stream",
     "text": [
      "    id_pleito tipo_interessado              interessado  cod_ibge  uf  \\\n",
      "1        8238        Município  Santo Antônio do Amparo   3159902  MG   \n",
      "3       27599        Município                  Raposos   3153905  MG   \n",
      "4       26604        Município            Sapucaí-Mirim   3165404  MG   \n",
      "17      26752        Município                Rio Manso   3155306  MG   \n",
      "23      27674        Município                Juramento   3136801  MG   \n",
      "\n",
      "                 num_pvl             status          num_processo  \\\n",
      "1                   None           Deferido  17944.000739/2009-19   \n",
      "3   PVL02.000252/2018-56  Deferido (PVL-IF)                  None   \n",
      "4   PVL02.002304/2017-48  Deferido (PVL-IF)                  None   \n",
      "17  PVL02.002254/2017-07           Deferido  17944.102810/2017-07   \n",
      "23  PVL02.000327/2018-07  Deferido (PVL-IF)                  None   \n",
      "\n",
      "          data_protocolo                tipo_operacao  \\\n",
      "1   2009-06-29T00:00:00Z  Operação contratual interna   \n",
      "3                   None  Operação contratual interna   \n",
      "4                   None  Operação contratual interna   \n",
      "17  2017-11-30T20:18:36Z  Operação contratual interna   \n",
      "23                  None  Operação contratual interna   \n",
      "\n",
      "                                        finalidade  \\\n",
      "1                                     Provias 2009   \n",
      "3   Aquisição de máquinas, equipamentos e veículos   \n",
      "4                                   Infraestrutura   \n",
      "17                                  Infraestrutura   \n",
      "23                                  Infraestrutura   \n",
      "\n",
      "                        tipo_credor  \\\n",
      "1   Instituição Financeira Nacional   \n",
      "3   Instituição Financeira Nacional   \n",
      "4   Instituição Financeira Nacional   \n",
      "17  Instituição Financeira Nacional   \n",
      "23  Instituição Financeira Nacional   \n",
      "\n",
      "                                          credor moeda      valor  \\\n",
      "1   Banco de Desenvolvimento de Minas Gerais S/A  Real   900000.0   \n",
      "3   Banco de Desenvolvimento de Minas Gerais S/A  Real   920000.0   \n",
      "4   Banco de Desenvolvimento de Minas Gerais S/A  Real   950000.0   \n",
      "17  Banco de Desenvolvimento de Minas Gerais S/A  Real  1500000.0   \n",
      "23  Banco de Desenvolvimento de Minas Gerais S/A  Real  1000000.0   \n",
      "\n",
      "    pvl_assoc_divida  pvl_contradado_credor data_status  \n",
      "1                  0                      0  28/07/2009  \n",
      "3                  0                      1  14/03/2018  \n",
      "4                  1                      1  18/12/2017  \n",
      "17                 0                      1  08/12/2017  \n",
      "23                 1                      1  07/03/2018  \n"
     ]
    }
   ],
   "source": [
    "# Consulta para a UF 'MG' e tipo de interessado 'Município'\n",
    "df_resultado = consulta_pvl('MG', 'Município')\n",
    "\n",
    "# Exibir os primeiros registros\n",
    "print(df_resultado.head())\n"
   ]
  },
  {
   "cell_type": "code",
   "execution_count": 71,
   "id": "0f345a9e-6101-4045-83a6-a35b59e8fa70",
   "metadata": {},
   "outputs": [],
   "source": [
    "#02 - Quantas solicitações para o Estado podem ser consultadas para Minas Gerais com status em 'Arquivado por decurso de prazo' estão registradas?\n",
    "import pandas as pd\n",
    "import requests\n",
    "\n",
    "def consulta_pvl_contagem(uf, status):\n",
    "    \"\"\"\n",
    "    Consulta e conta as solicitações na API de PVL do Tesouro Nacional \n",
    "    para uma UF e status específicos.\n",
    "\n",
    "    Parâmetros:\n",
    "    - uf (str): Unidade Federativa (exemplo: 'MG')\n",
    "    - status (str): Status das solicitações (exemplo: 'Arquivado por decurso de prazo')\n",
    "\n",
    "    Retorno:\n",
    "    - Inteiro com a contagem de solicitações correspondentes.\n",
    "    \"\"\"\n",
    "    # URL da API\n",
    "    url = \"http://apidatalake.tesouro.gov.br/ords/sadipem/tt/pvl\"\n",
    "    \n",
    "    # Realiza a requisição para a API\n",
    "    response = requests.get(url)\n",
    "    \n",
    "    if response.status_code == 200:\n",
    "        # Processa os dados da API\n",
    "        dados = response.json()\n",
    "        df = pd.DataFrame(dados['items'])\n",
    "        \n",
    "        # Filtra os dados por UF e Status\n",
    "        df_filtrado = df[(df['uf'] == uf) & (df['status'] == status)]\n",
    "        \n",
    "        # Retorna a contagem\n",
    "        return len(df_filtrado)\n",
    "    else:\n",
    "        print(f\"Erro na requisição: {response.status_code}\")\n",
    "        return 0\n"
   ]
  },
  {
   "cell_type": "code",
   "execution_count": 73,
   "id": "bacf23f4-6141-497b-a8ec-645affd209f3",
   "metadata": {},
   "outputs": [
    {
     "name": "stdout",
     "output_type": "stream",
     "text": [
      "Quantidade de solicitações: 63\n"
     ]
    }
   ],
   "source": [
    "# Consultar solicitações para Minas Gerais com status 'Arquivado por decurso de prazo'\n",
    "uf = 'MG'\n",
    "status = 'Arquivado por decurso de prazo'\n",
    "contagem = consulta_pvl_contagem(uf, status)\n",
    "\n",
    "print(f\"Quantidade de solicitações: {contagem}\")\n"
   ]
  },
  {
   "cell_type": "code",
   "execution_count": 75,
   "id": "a9c1066a-fe87-4256-892f-aa13d518b790",
   "metadata": {},
   "outputs": [],
   "source": [
    "#03 - Qual é o município da Bahia com mais solicitações deferidas?\n",
    "\n",
    "def municipio_com_mais_deferidas(uf, status):\n",
    "    \"\"\"\n",
    "    Consulta os dados da API de PVL do Tesouro Nacional e encontra o município\n",
    "    com o maior número de solicitações com o status especificado.\n",
    "\n",
    "    Parâmetros:\n",
    "    - uf (str): Unidade Federativa (exemplo: 'BA')\n",
    "    - status (str): Status das solicitações (exemplo: 'Deferido')\n",
    "\n",
    "    Retorno:\n",
    "    - Nome do município com mais solicitações deferidas e a quantidade.\n",
    "    \"\"\"\n",
    "    # URL da API\n",
    "    url = \"http://apidatalake.tesouro.gov.br/ords/sadipem/tt/pvl\"\n",
    "    \n",
    "    # Realiza a requisição para a API\n",
    "    response = requests.get(url)\n",
    "    \n",
    "    if response.status_code == 200:\n",
    "        # Processa os dados da API\n",
    "        dados = response.json()\n",
    "        df = pd.DataFrame(dados['items'])\n",
    "        \n",
    "        # Filtra os dados por UF e Status\n",
    "        df_filtrado = df[(df['uf'] == uf) & (df['status'] == status)]\n",
    "        \n",
    "        # Agrupa por município e conta as solicitações\n",
    "        municipio_mais_solicitacoes = df_filtrado['interessado'].value_counts().idxmax()\n",
    "        quantidade = df_filtrado['interessado'].value_counts().max()\n",
    "        \n",
    "        return municipio_mais_solicitacoes, quantidade\n",
    "    else:\n",
    "        print(f\"Erro na requisição: {response.status_code}\")\n",
    "        return None, 0\n"
   ]
  },
  {
   "cell_type": "code",
   "execution_count": 77,
   "id": "88875e77-b1e6-4fc4-b9fe-204a648d47cd",
   "metadata": {},
   "outputs": [
    {
     "name": "stdout",
     "output_type": "stream",
     "text": [
      "Município com mais solicitações deferidas: Bahia (10 solicitações)\n"
     ]
    }
   ],
   "source": [
    "# Consultar o município da Bahia com mais solicitações deferidas\n",
    "uf = 'BA'\n",
    "status = 'Deferido'\n",
    "municipio, quantidade = municipio_com_mais_deferidas(uf, status)\n",
    "\n",
    "print(f\"Município com mais solicitações deferidas: {municipio} ({quantidade} solicitações)\")\n"
   ]
  },
  {
   "cell_type": "code",
   "execution_count": 79,
   "id": "a8ed9473-4f38-466b-b217-de5f9eeffef5",
   "metadata": {},
   "outputs": [
    {
     "name": "stdout",
     "output_type": "stream",
     "text": [
      "Arquivo salvo: C:\\Users\\fabri\\EBAC\\atividade04\\solicitacoes_bahia_estado.csv\n"
     ]
    },
    {
     "data": {
      "text/plain": [
       "'solicitacoes_bahia_estado.csv'"
      ]
     },
     "execution_count": 79,
     "metadata": {},
     "output_type": "execute_result"
    }
   ],
   "source": [
    "#04 - Salve um arquivo .csv com os dados de solicitações da Bahia, com interessado = 'Estado'\n",
    "\n",
    "def salvar_solicitacoes_bahia_estado_em_csv():\n",
    "    \"\"\"\n",
    "    Consulta os dados de solicitações para a Bahia com interessado 'Estado'\n",
    "    e salva os resultados em um arquivo CSV.\n",
    "\n",
    "    Retorno:\n",
    "    - Nome do arquivo salvo.\n",
    "    \"\"\"\n",
    "    import os\n",
    "    \n",
    "    # URL da API\n",
    "    url = \"http://apidatalake.tesouro.gov.br/ords/sadipem/tt/pvl\"\n",
    "    \n",
    "    # Realiza a requisição para a API\n",
    "    response = requests.get(url)\n",
    "    \n",
    "    if response.status_code == 200:\n",
    "        # Processa os dados da API\n",
    "        dados = response.json()\n",
    "        df = pd.DataFrame(dados['items'])\n",
    "        \n",
    "        # Filtra os dados por UF = 'BA' e tipo_interessado = 'Estado'\n",
    "        df_filtrado = df[(df['uf'] == 'BA') & (df['tipo_interessado'] == 'Estado')]\n",
    "        \n",
    "        # Nome do arquivo para salvar\n",
    "        arquivo_csv = \"solicitacoes_bahia_estado.csv\"\n",
    "        \n",
    "        # Salva os dados em CSV\n",
    "        df_filtrado.to_csv(arquivo_csv, index=False, encoding='utf-8')\n",
    "        \n",
    "        print(f\"Arquivo salvo: {os.path.abspath(arquivo_csv)}\")\n",
    "        return arquivo_csv\n",
    "    else:\n",
    "        print(f\"Erro na requisição: {response.status_code}\")\n",
    "        return None\n",
    "\n",
    "# Executar a função\n",
    "salvar_solicitacoes_bahia_estado_em_csv()\n"
   ]
  },
  {
   "cell_type": "code",
   "execution_count": null,
   "id": "02c5a57c-1c64-4bfb-abab-009ad347cf15",
   "metadata": {},
   "outputs": [],
   "source": []
  }
 ],
 "metadata": {
  "kernelspec": {
   "display_name": "Python 3 (ipykernel)",
   "language": "python",
   "name": "python3"
  },
  "language_info": {
   "codemirror_mode": {
    "name": "ipython",
    "version": 3
   },
   "file_extension": ".py",
   "mimetype": "text/x-python",
   "name": "python",
   "nbconvert_exporter": "python",
   "pygments_lexer": "ipython3",
   "version": "3.12.4"
  }
 },
 "nbformat": 4,
 "nbformat_minor": 5
}
